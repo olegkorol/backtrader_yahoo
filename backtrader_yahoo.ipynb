{
  "nbformat": 4,
  "nbformat_minor": 0,
  "metadata": {
    "colab": {
      "name": "backtrader_yahoo.ipynb",
      "provenance": [],
      "private_outputs": true,
      "authorship_tag": "ABX9TyPB2ESmG5ci1O3e9pqr3YMc",
      "include_colab_link": true
    },
    "kernelspec": {
      "name": "python3",
      "display_name": "Python 3"
    }
  },
  "cells": [
    {
      "cell_type": "markdown",
      "metadata": {
        "id": "view-in-github",
        "colab_type": "text"
      },
      "source": [
        "<a href=\"https://colab.research.google.com/github/olegkorol/backtrader_yahoo/blob/main/backtrader_yahoo.ipynb\" target=\"_parent\"><img src=\"https://colab.research.google.com/assets/colab-badge.svg\" alt=\"Open In Colab\"/></a>"
      ]
    },
    {
      "cell_type": "markdown",
      "metadata": {
        "id": "LRRIAX_3f6Xp"
      },
      "source": [
        "# Backtesting trading strategies with Backtrader and Yahoo Finance"
      ]
    },
    {
      "cell_type": "markdown",
      "metadata": {
        "id": "gZvPKF0Ohz0v"
      },
      "source": [
        "## Install and import dependencies"
      ]
    },
    {
      "cell_type": "code",
      "metadata": {
        "id": "tECaPgK1gX6-"
      },
      "source": [
        "# Install pip packages in the current Jupyter kernel\n",
        "# https://jakevdp.github.io/blog/2017/12/05/installing-python-packages-from-jupyter/#How-to-use-Pip-from-the-Jupyter-Notebook\n",
        "import sys\n",
        "!{sys.executable} -m pip install backtrader pyfolio"
      ],
      "execution_count": null,
      "outputs": []
    },
    {
      "cell_type": "code",
      "metadata": {
        "id": "1WNo3sJHgQ2F"
      },
      "source": [
        "import datetime\n",
        "import backtrader as bt"
      ],
      "execution_count": null,
      "outputs": []
    },
    {
      "cell_type": "markdown",
      "metadata": {
        "id": "m1uay307iDTx"
      },
      "source": [
        "## Set desired tickers and start date"
      ]
    },
    {
      "cell_type": "code",
      "metadata": {
        "id": "xnC5tgKViCJl"
      },
      "source": [
        "tickers = ['NIO', 'SNE', 'GOOG', 'NFLX', 'DIS',\n",
        "           'TWTR', 'TSLA', 'AAPL', 'AMZN', 'BTC-USD', 'ETH-USD', 'MSFT', 'KO']\n",
        "fromdate = datetime.datetime(2018, 1, 1)\n",
        "todate = datetime.datetime.now()"
      ],
      "execution_count": null,
      "outputs": []
    },
    {
      "cell_type": "markdown",
      "metadata": {
        "id": "H2Q4WQA7iSIG"
      },
      "source": [
        "## Define strategies"
      ]
    },
    {
      "cell_type": "code",
      "metadata": {
        "id": "8PDGjtitiV0-"
      },
      "source": [
        "class SmaCrossoverStochastic(bt.Strategy):\n",
        "    params = dict(sma_fast_period=10, sma_slow_period=30,\n",
        "                  stochastic_upperband=60, stochastic_lowerband=30)\n",
        "\n",
        "    def __init__(self):\n",
        "        sma_fast = bt.indicators.SMA(period=self.p.sma_fast_period)\n",
        "        sma_slow = bt.indicators.SMA(period=self.p.sma_slow_period)\n",
        "        self.crossover = bt.indicators.CrossOver(\n",
        "            sma_fast, sma_slow)  # returns: -1, 0 or 1\n",
        "        self.stochastic = bt.indicators.StochasticSlow(\n",
        "            upperband=self.p.stochastic_upperband, lowerband=self.p.stochastic_lowerband)\n",
        "\n",
        "    def next(self):\n",
        "        close_price = self.data.close * 1.0\n",
        "        position_size = self.position.size\n",
        "        available_cash = self.broker.getcash() * 1\n",
        "\n",
        "        if self.position.size:\n",
        "            if self.crossover < 0 and self.stochastic <= self.p.stochastic_lowerband:\n",
        "                print('- [{}] Closing {} position(s) at {}$'.format(\n",
        "                    self.data.datetime.date(), position_size, close_price))\n",
        "                self.close()\n",
        "        elif self.crossover > 0 and self.stochastic >= self.p.stochastic_upperband:\n",
        "            print('+ [{}] Buying {} position(s) at {}$'.format(\n",
        "                self.data.datetime.date(), int(available_cash * 0.95 / close_price), close_price))\n",
        "            self.buy(size=int(available_cash * 0.95 / close_price))"
      ],
      "execution_count": null,
      "outputs": []
    },
    {
      "cell_type": "markdown",
      "metadata": {
        "id": "G2MNWewqib8X"
      },
      "source": [
        "## Run backtesting"
      ]
    },
    {
      "cell_type": "code",
      "metadata": {
        "id": "1BXDSpx6ihSi"
      },
      "source": [
        "for ticker in tickers:\n",
        "    cerebro = bt.Cerebro()\n",
        "    # The starting capital can be changed here\n",
        "    cerebro.broker.set_cash(50000)\n",
        "\n",
        "    data = bt.feeds.YahooFinanceData(\n",
        "        dataname=ticker,\n",
        "        fromdate=fromdate,\n",
        "        todate=todate,\n",
        "        adjclose=True,\n",
        "        period='d',\n",
        "        name='days'\n",
        "    )\n",
        "    cerebro.adddata(data)\n",
        "\n",
        "    # Select Strategy\n",
        "    cerebro.addstrategy(SmaCrossoverStochastic)\n",
        "\n",
        "    # Select Analyzer (optional)\n",
        "    cerebro.addanalyzer(bt.analyzers.SharpeRatio, _name='_sharpe')\n",
        "\n",
        "    initial_value = cerebro.broker.get_value()\n",
        "    print('=' * 5, '{}'.format(ticker), '=' * 5)\n",
        "    print('Start value:', initial_value, '$')\n",
        "\n",
        "    results = cerebro.run()\n",
        "    strat = results[0]\n",
        "    sharpe_ratio = strat.analyzers.getbyname('_sharpe').get_analysis()\n",
        "\n",
        "    print('End value: %.2f' % cerebro.broker.get_value(), '$')\n",
        "    print('(Available cash: %.2f' % cerebro.broker.get_cash(), '$)')\n",
        "    print('*' * 18, '\\nCHANGE: {:.4f}%'.format(\n",
        "        float(cerebro.broker.get_value() / float(initial_value)) * 100.00 - 100))\n",
        "    print('*' * 18, '\\n')\n",
        "    print('Sharpe Ratio: {}'.format(sharpe_ratio['sharperatio']))\n",
        "\n",
        "    cerebro.plot(iplot=False)\n",
        "\n",
        "    print('=' * 5, '{}'.format(ticker), '=' * 5, '\\n')"
      ],
      "execution_count": null,
      "outputs": []
    }
  ]
}